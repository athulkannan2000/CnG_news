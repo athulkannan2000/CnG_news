{
 "cells": [
  {
   "cell_type": "code",
   "execution_count": 1,
   "id": "844cff13",
   "metadata": {},
   "outputs": [
    {
     "name": "stdout",
     "output_type": "stream",
     "text": [
      "   Index                                            Title  \\\n",
      "0      1  Attention-Deficit/Hyperactivity Disorder (ADHD)   \n",
      "1      2                             Understanding Autism   \n",
      "2      3                              Developmental Delay   \n",
      "\n",
      "                                             Content  \\\n",
      "0  Home\\n / \\nHealth Services & Programs\\n / \\nDe...   \n",
      "1  Home\\n / \\nHealth Services & Programs\\n / \\nDe...   \n",
      "2  Home\\n / \\nHealth Services & Programs\\n / \\nDe...   \n",
      "\n",
      "                                        HTML Content  \\\n",
      "0  <div class=\"col\">\\n<div class=\"pb-3\">\\n<div ar...   \n",
      "1  <div class=\"col\">\\n<div class=\"pb-3\">\\n<div ar...   \n",
      "2  <div class=\"col\">\\n<div class=\"pb-3\">\\n<div ar...   \n",
      "\n",
      "                                                Link Date Fetched  \n",
      "0  https://www.ssmhealth.com/cardinal-glennon/ser...   2024-03-19  \n",
      "1  https://www.ssmhealth.com/cardinal-glennon/ser...   2024-03-19  \n",
      "2  https://www.ssmhealth.com/cardinal-glennon/ser...   2024-03-19  \n"
     ]
    }
   ],
   "source": [
    "import pandas as pd\n",
    "from bs4 import BeautifulSoup\n",
    "import requests\n",
    "\n",
    "def scrape_ssmhealth(url):\n",
    "    html_text = requests.get(url)\n",
    "    soup = BeautifulSoup(html_text.content, 'lxml')\n",
    "\n",
    "    ssm = soup.find('div', class_='col col-md-8 pt-sm-0')\n",
    "\n",
    "    if ssm:\n",
    "        ssm_title = soup.find('div', class_='fr-view').text.strip()\n",
    "        ssm_content = soup.find('div', class_='col').text.strip()\n",
    "        link = url  # Set link as the provided URL\n",
    "\n",
    "        return {\n",
    "            'Index': None,  # Placeholder for the index\n",
    "            'Title': ssm_title,\n",
    "            'Content': ssm_content,\n",
    "            'HTML Content': str(ssm.find('div', class_='col')),\n",
    "            'Link': link\n",
    "        }\n",
    "    else:\n",
    "        print(f\"No data found for {url}\")\n",
    "        return None\n",
    "\n",
    "urls = [\n",
    "    'https://www.ssmhealth.com/cardinal-glennon/services/developmental-pediatrics/adhd',\n",
    "    'https://www.ssmhealth.com/cardinal-glennon/services/developmental-pediatrics/autism',\n",
    "    'https://www.ssmhealth.com/cardinal-glennon/services/developmental-pediatrics/developmental-delay'\n",
    "]\n",
    "\n",
    "data = []\n",
    "\n",
    "for index, url in enumerate(urls, start=1):\n",
    "    result = scrape_ssmhealth(url)\n",
    "    if result:\n",
    "        result['Index'] = index\n",
    "        data.append(result)\n",
    "\n",
    "df = pd.DataFrame(data)\n",
    "\n",
    "# Reordering columns with \"Index\" at the beginning\n",
    "df = df[['Index', 'Title', 'Content', 'HTML Content', 'Link']]\n",
    "\n",
    "# Adding \"Date Fetched\" column\n",
    "df['Date Fetched'] = pd.to_datetime('today').strftime('%Y-%m-%d')\n",
    "\n",
    "print(df)"
   ]
  },
  {
   "cell_type": "code",
   "execution_count": 3,
   "id": "2b1120de",
   "metadata": {},
   "outputs": [],
   "source": [
    "df.to_csv('ssmhealth.csv', index = False)"
   ]
  },
  {
   "cell_type": "code",
   "execution_count": null,
   "id": "0a9f68f9",
   "metadata": {},
   "outputs": [],
   "source": []
  }
 ],
 "metadata": {
  "kernelspec": {
   "display_name": "Python 3 (ipykernel)",
   "language": "python",
   "name": "python3"
  },
  "language_info": {
   "codemirror_mode": {
    "name": "ipython",
    "version": 3
   },
   "file_extension": ".py",
   "mimetype": "text/x-python",
   "name": "python",
   "nbconvert_exporter": "python",
   "pygments_lexer": "ipython3",
   "version": "3.9.12"
  }
 },
 "nbformat": 4,
 "nbformat_minor": 5
}
